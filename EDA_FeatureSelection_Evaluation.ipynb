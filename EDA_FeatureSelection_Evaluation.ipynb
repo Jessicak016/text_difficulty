{
 "cells": [
  {
   "cell_type": "markdown",
   "id": "infectious-senate",
   "metadata": {},
   "source": [
    "# Predicting Text Difficulty"
   ]
  },
  {
   "cell_type": "markdown",
   "id": "collect-rocket",
   "metadata": {},
   "source": [
    "## Load Data "
   ]
  },
  {
   "cell_type": "code",
   "execution_count": 140,
   "id": "italian-assets",
   "metadata": {},
   "outputs": [],
   "source": [
    "import pandas as pd\n",
    "import numpy as np\n",
    "import spacy\n",
    "import nltk\n",
    "import string\n",
    "from collections import Counter\n",
    "from sklearn import svm\n",
    "from sklearn.feature_extraction.text import CountVectorizer\n",
    "import re\n",
    "import os\n",
    "from sklearn.linear_model import LogisticRegression\n",
    "from sklearn.dummy import DummyClassifier\n",
    "from sklearn.naive_bayes import GaussianNB\n",
    "from sklearn.model_selection import GridSearchCV\n",
    "from sklearn.model_selection import train_test_split\n",
    "from sklearn.ensemble import RandomForestClassifier\n",
    "from sklearn.neighbors import KNeighborsClassifier\n",
    "from sklearn_pandas import DataFrameMapper\n",
    "from sklearn.feature_selection import chi2\n",
    "from sklearn.preprocessing import LabelEncoder\n",
    "from sklearn import metrics\n",
    "import matplotlib.pyplot as plt\n",
    "\n",
    "import warnings\n",
    "warnings.filterwarnings(\"ignore\")\n"
   ]
  },
  {
   "cell_type": "code",
   "execution_count": 3,
   "id": "brutal-musical",
   "metadata": {},
   "outputs": [],
   "source": [
    "nlp = spacy.load(\"en_core_web_sm\")"
   ]
  },
  {
   "cell_type": "code",
   "execution_count": 95,
   "id": "exterior-morocco",
   "metadata": {},
   "outputs": [
    {
     "data": {
      "text/html": [
       "<div>\n",
       "<style scoped>\n",
       "    .dataframe tbody tr th:only-of-type {\n",
       "        vertical-align: middle;\n",
       "    }\n",
       "\n",
       "    .dataframe tbody tr th {\n",
       "        vertical-align: top;\n",
       "    }\n",
       "\n",
       "    .dataframe thead th {\n",
       "        text-align: right;\n",
       "    }\n",
       "</style>\n",
       "<table border=\"1\" class=\"dataframe\">\n",
       "  <thead>\n",
       "    <tr style=\"text-align: right;\">\n",
       "      <th></th>\n",
       "      <th>original_text</th>\n",
       "      <th>label</th>\n",
       "    </tr>\n",
       "    <tr>\n",
       "      <th>id</th>\n",
       "      <th></th>\n",
       "      <th></th>\n",
       "    </tr>\n",
       "  </thead>\n",
       "  <tbody>\n",
       "    <tr>\n",
       "      <th>0</th>\n",
       "      <td>-2011</td>\n",
       "      <td>NaN</td>\n",
       "    </tr>\n",
       "    <tr>\n",
       "      <th>1</th>\n",
       "      <td>-2011</td>\n",
       "      <td>NaN</td>\n",
       "    </tr>\n",
       "    <tr>\n",
       "      <th>2</th>\n",
       "      <td>-2000</td>\n",
       "      <td>NaN</td>\n",
       "    </tr>\n",
       "    <tr>\n",
       "      <th>3</th>\n",
       "      <td>-1997</td>\n",
       "      <td>NaN</td>\n",
       "    </tr>\n",
       "  </tbody>\n",
       "</table>\n",
       "</div>"
      ],
      "text/plain": [
       "   original_text  label\n",
       "id                     \n",
       "0          -2011    NaN\n",
       "1          -2011    NaN\n",
       "2          -2000    NaN\n",
       "3          -1997    NaN"
      ]
     },
     "execution_count": 95,
     "metadata": {},
     "output_type": "execute_result"
    }
   ],
   "source": [
    "# Dale_Chall Word List \n",
    "with open('dale_chall.txt') as f:\n",
    "    lines = f.readlines()\n",
    "    \n",
    "dale_chall_word_list = [word.strip().lower() for word in lines]  \n",
    "dale_chall_word_set = set(dale_chall_word_list)\n",
    "\n",
    "# import train and test data \n",
    "train_data = pd.read_csv(\"WikiLarge_Train.csv\")\n",
    "final_test_data = pd.read_csv(\"WikiLarge_Test.csv\")\n",
    "train_data[\"id\"] = list(range(len(final_test_data), len(final_test_data)+len(train_data)))\n",
    "train_data = train_data[[\"id\", \"original_text\", \"label\"]]\n",
    "\n",
    "# for feature extraction: \n",
    "all_data = pd.concat([final_test_data, train_data])\n",
    "all_data = all_data.sort_values(by=\"id\", axis=0)\n",
    "all_data = all_data.set_index(\"id\")\n",
    "all_data.head(4)"
   ]
  },
  {
   "cell_type": "code",
   "execution_count": 7,
   "id": "authentic-actor",
   "metadata": {},
   "outputs": [
    {
     "name": "stdout",
     "output_type": "stream",
     "text": [
      "(416768, 3) (119092, 3)\n"
     ]
    }
   ],
   "source": [
    "print(train_data.shape, final_test_data.shape)"
   ]
  },
  {
   "cell_type": "code",
   "execution_count": 28,
   "id": "imperial-aircraft",
   "metadata": {},
   "outputs": [
    {
     "data": {
      "text/html": [
       "<div>\n",
       "<style scoped>\n",
       "    .dataframe tbody tr th:only-of-type {\n",
       "        vertical-align: middle;\n",
       "    }\n",
       "\n",
       "    .dataframe tbody tr th {\n",
       "        vertical-align: top;\n",
       "    }\n",
       "\n",
       "    .dataframe thead th {\n",
       "        text-align: right;\n",
       "    }\n",
       "</style>\n",
       "<table border=\"1\" class=\"dataframe\">\n",
       "  <thead>\n",
       "    <tr style=\"text-align: right;\">\n",
       "      <th></th>\n",
       "      <th>original_text</th>\n",
       "      <th>clean_text</th>\n",
       "    </tr>\n",
       "    <tr>\n",
       "      <th>id</th>\n",
       "      <th></th>\n",
       "      <th></th>\n",
       "    </tr>\n",
       "  </thead>\n",
       "  <tbody>\n",
       "    <tr>\n",
       "      <th>0</th>\n",
       "      <td>-2011</td>\n",
       "      <td>2011</td>\n",
       "    </tr>\n",
       "    <tr>\n",
       "      <th>1</th>\n",
       "      <td>-2011</td>\n",
       "      <td>2011</td>\n",
       "    </tr>\n",
       "    <tr>\n",
       "      <th>2</th>\n",
       "      <td>-2000</td>\n",
       "      <td>2000</td>\n",
       "    </tr>\n",
       "    <tr>\n",
       "      <th>3</th>\n",
       "      <td>-1997</td>\n",
       "      <td>1997</td>\n",
       "    </tr>\n",
       "    <tr>\n",
       "      <th>4</th>\n",
       "      <td>1.636</td>\n",
       "      <td>1636</td>\n",
       "    </tr>\n",
       "    <tr>\n",
       "      <th>...</th>\n",
       "      <td>...</td>\n",
       "      <td>...</td>\n",
       "    </tr>\n",
       "    <tr>\n",
       "      <th>535855</th>\n",
       "      <td>A Duke Nukem 3D version has been sold for Xbox...</td>\n",
       "      <td>a duke nukem 3d version has been sold for xbox...</td>\n",
       "    </tr>\n",
       "    <tr>\n",
       "      <th>535856</th>\n",
       "      <td>However , it is becoming replaced as a method ...</td>\n",
       "      <td>however it is becoming replaced as a method of...</td>\n",
       "    </tr>\n",
       "    <tr>\n",
       "      <th>535857</th>\n",
       "      <td>There are hand gestures in both Hindu and Budd...</td>\n",
       "      <td>there are hand gestures in both hindu and budd...</td>\n",
       "    </tr>\n",
       "    <tr>\n",
       "      <th>535858</th>\n",
       "      <td>If it is necessary to use colors , try to choo...</td>\n",
       "      <td>if it is necessary to use colors try to choose...</td>\n",
       "    </tr>\n",
       "    <tr>\n",
       "      <th>535859</th>\n",
       "      <td>Calgary Stampeders ,</td>\n",
       "      <td>calgary stampeders</td>\n",
       "    </tr>\n",
       "  </tbody>\n",
       "</table>\n",
       "<p>535860 rows × 2 columns</p>\n",
       "</div>"
      ],
      "text/plain": [
       "                                            original_text  \\\n",
       "id                                                          \n",
       "0                                                   -2011   \n",
       "1                                                   -2011   \n",
       "2                                                   -2000   \n",
       "3                                                   -1997   \n",
       "4                                                   1.636   \n",
       "...                                                   ...   \n",
       "535855  A Duke Nukem 3D version has been sold for Xbox...   \n",
       "535856  However , it is becoming replaced as a method ...   \n",
       "535857  There are hand gestures in both Hindu and Budd...   \n",
       "535858  If it is necessary to use colors , try to choo...   \n",
       "535859                               Calgary Stampeders ,   \n",
       "\n",
       "                                               clean_text  \n",
       "id                                                         \n",
       "0                                                    2011  \n",
       "1                                                    2011  \n",
       "2                                                    2000  \n",
       "3                                                    1997  \n",
       "4                                                    1636  \n",
       "...                                                   ...  \n",
       "535855  a duke nukem 3d version has been sold for xbox...  \n",
       "535856  however it is becoming replaced as a method of...  \n",
       "535857  there are hand gestures in both hindu and budd...  \n",
       "535858  if it is necessary to use colors try to choose...  \n",
       "535859                                 calgary stampeders  \n",
       "\n",
       "[535860 rows x 2 columns]"
      ]
     },
     "execution_count": 28,
     "metadata": {},
     "output_type": "execute_result"
    }
   ],
   "source": [
    "punctuations = list(string.punctuation)\n",
    "punctuations = punctuations + [\"...\", \"”\", \"’\", \"“\", \"…\"]\n",
    "punctuations_set = set(punctuations)\n",
    "\n",
    "original_text_df = all_data[[\"original_text\"]]\n",
    "\n",
    "def clean_text(row): \n",
    "    text = row[\"original_text\"]\n",
    "    \n",
    "    text = text.replace(\"-RRB-\", \"\")\n",
    "    text = text.replace(\"-LRB-\", \"\")\n",
    "    \n",
    "    # replace any non-alphabetic characters and trailing spaces\n",
    "    text = text.replace(\"Å \", \"o\") \n",
    "    text = text.replace(\"Ã \", \"a\")\n",
    "    \n",
    "    # remove urls\n",
    "    text = re.sub(r\"http[s]?\\:[\\w\\.\\/\\-]+\", \"\", text) \n",
    "    \n",
    "    # remove any 's\n",
    "    text = text.replace(\"'s\", \"\")\n",
    "    \n",
    "    # remove any punctuations\n",
    "    text = re.sub(r\"[!\\\"#$%&\\'()*+,\\-\\./:;<=>?@[\\\\\\]\\^_`{\\|}~\\.\\.\\.”’“\\†\\']\", \"\", text)\n",
    "\n",
    "    text = text.replace(\"  \", \" \")\n",
    "    text = text.strip()\n",
    "    text = text.lower()\n",
    "    return text\n",
    "\n",
    "original_text_df[\"clean_text\"] = original_text_df.apply(clean_text, axis=1)\n",
    "original_text_df\n"
   ]
  },
  {
   "cell_type": "markdown",
   "id": "running-serum",
   "metadata": {},
   "source": [
    "## Exploratory Data Analysis"
   ]
  },
  {
   "cell_type": "code",
   "execution_count": 134,
   "id": "polished-settle",
   "metadata": {},
   "outputs": [
    {
     "name": "stdout",
     "output_type": "stream",
     "text": [
      "Train data has length of 416768 rows\n",
      "Final test data has length of 119092 rows\n"
     ]
    }
   ],
   "source": [
    "print(\"Train data has length of {} rows\".format(len(train_data)))\n",
    "print(\"Final test data has length of {} rows\".format(len(final_test_data)))"
   ]
  },
  {
   "cell_type": "code",
   "execution_count": 135,
   "id": "nuclear-deadline",
   "metadata": {},
   "outputs": [
    {
     "data": {
      "text/plain": [
       "0    208384\n",
       "1    208384\n",
       "Name: label, dtype: int64"
      ]
     },
     "execution_count": 135,
     "metadata": {},
     "output_type": "execute_result"
    }
   ],
   "source": [
    "# how balanced are the class labels in the training data \n",
    "train_data[\"label\"].value_counts()\n"
   ]
  },
  {
   "cell_type": "markdown",
   "id": "aging-andorra",
   "metadata": {},
   "source": [
    "#### Feature Extraction"
   ]
  },
  {
   "cell_type": "code",
   "execution_count": 163,
   "id": "restricted-privilege",
   "metadata": {},
   "outputs": [
    {
     "name": "stdout",
     "output_type": "stream",
     "text": [
      "1. Done\n",
      "2. Done\n",
      "3. Done\n",
      "4. Done\n",
      "5. Done\n",
      "6. Done\n",
      "7. Done\n"
     ]
    }
   ],
   "source": [
    "all_data[\"cleaned_text\"] = original_text_df[\"clean_text\"] \n",
    "\n",
    "all_features = all_data.copy()\n",
    "\n",
    "punctuations = list(string.punctuation)\n",
    "punctuations = punctuations + [\"...\", \"”\", \"’\", \"“\", \"…\", \"``\"]\n",
    "punctuations_set = set(punctuations)\n",
    "\n",
    "# get text length\n",
    "def get_length(row):\n",
    "    text = row[\"cleaned_text\"]\n",
    "    return len(text)\n",
    "\n",
    "def get_tokens(row): \n",
    "    text = row[\"cleaned_text\"]\n",
    "    tokens = nltk.word_tokenize(text)\n",
    "    cleaned_tokens = [token for token in tokens if (token not in punctuations_set)]\n",
    "    cleaned_tokens = [token.strip() for token in cleaned_tokens]\n",
    "    return cleaned_tokens\n",
    "\n",
    "def get_num_types(row): \n",
    "    tokens = row[\"tokens\"]\n",
    "    types = set(tokens)\n",
    "    return len(types)\n",
    "\n",
    "def get_num_tokens(row): \n",
    "    tokens = row[\"tokens\"]\n",
    "    return len(tokens)\n",
    "\n",
    "def get_difficult_tokens(row): \n",
    "    tokens = row[\"tokens\"]\n",
    "    difficult_tokens = [token for token in tokens if (token not in dale_chall_word_set)]\n",
    "    return difficult_tokens\n",
    "\n",
    "def get_num_difficult_tokens(row): \n",
    "    difficult_tokens = row[\"difficult_tokens\"]\n",
    "    return len(difficult_tokens)\n",
    "\n",
    "def get_prop_difficult_tokens(row): \n",
    "    proportion = 0\n",
    "    num_difficult_tokens = len(row[\"difficult_tokens\"])\n",
    "    num_tokens = row[\"num_tokens\"]\n",
    "    if num_tokens != 0:\n",
    "        proportion = num_difficult_tokens/num_tokens\n",
    "        \n",
    "    return proportion\n",
    "\n",
    "all_features[\"text_len\"] = all_features.apply(get_length, axis=1)\n",
    "print(\"1. Done\")\n",
    "all_features[\"tokens\"] = all_features.apply(get_tokens, axis=1) # takes a long time \n",
    "print(\"2. Done\")\n",
    "all_features[\"num_tokens\"] = all_features.apply(get_num_tokens, axis=1)\n",
    "print(\"3. Done\")\n",
    "all_features[\"num_types\"] = all_features.apply(get_num_types, axis=1)\n",
    "print(\"4. Done\")\n",
    "all_features[\"difficult_tokens\"] = all_features.apply(get_difficult_tokens, axis=1)\n",
    "print(\"5. Done\")\n",
    "all_features[\"num_difficult_tokens\"] = all_features.apply(get_num_difficult_tokens, axis=1)\n",
    "print(\"6. Done\")\n",
    "all_features[\"prop_difficult_tokens\"] = all_features.apply(get_prop_difficult_tokens, axis=1)\n",
    "print(\"7. Done\")\n"
   ]
  },
  {
   "cell_type": "code",
   "execution_count": 211,
   "id": "english-gazette",
   "metadata": {},
   "outputs": [
    {
     "data": {
      "text/plain": [
       "array([[<AxesSubplot:title={'center':'Text Length Distribution'}>]],\n",
       "      dtype=object)"
      ]
     },
     "execution_count": 211,
     "metadata": {},
     "output_type": "execute_result"
    },
    {
     "data": {
      "image/png": "[encoded data removed]",
      "text/plain": [
       "<Figure size 432x288 with 1 Axes>"
      ]
     },
     "metadata": {
      "needs_background": "light"
     },
     "output_type": "display_data"
    }
   ],
   "source": [
    "# Text Length Distribution \n",
    "all_features[[\"text_len\"]].rename({\"text_len\": \"Text Length Distribution\"}, axis=1).hist(bins=10)\n"
   ]
  },
  {
   "cell_type": "code",
   "execution_count": 213,
   "id": "blank-capacity",
   "metadata": {},
   "outputs": [
    {
     "data": {
      "text/plain": [
       "array([[<AxesSubplot:title={'center':'Text Length by Tokens Distribution'}>]],\n",
       "      dtype=object)"
      ]
     },
     "execution_count": 213,
     "metadata": {},
     "output_type": "execute_result"
    },
    {
     "data": {
      "image/png": "[encoded data removed]",
      "text/plain": [
       "<Figure size 432x288 with 1 Axes>"
      ]
     },
     "metadata": {
      "needs_background": "light"
     },
     "output_type": "display_data"
    }
   ],
   "source": [
    "# Text Length by Tokens Distribution \n",
    "all_features[[\"num_tokens\"]].rename({\"num_tokens\": \"Text Length by Tokens Distribution\"}, axis=1).hist(bins=10)\n"
   ]
  },
  {
   "cell_type": "code",
   "execution_count": 215,
   "id": "superior-bacon",
   "metadata": {},
   "outputs": [
    {
     "data": {
      "text/plain": [
       "array([[<AxesSubplot:title={'center':'Number of Types Per Text Distribution'}>]],\n",
       "      dtype=object)"
      ]
     },
     "execution_count": 215,
     "metadata": {},
     "output_type": "execute_result"
    },
    {
     "data": {
      "image/png": "[encoded data removed]",
      "text/plain": [
       "<Figure size 432x288 with 1 Axes>"
      ]
     },
     "metadata": {
      "needs_background": "light"
     },
     "output_type": "display_data"
    }
   ],
   "source": [
    "# Text Length by Types Distribution \n",
    "all_features[[\"num_types\"]].rename({\"num_types\": \"Number of Types Per Text Distribution\"}, axis=1).hist(bins=10)\n"
   ]
  },
  {
   "cell_type": "code",
   "execution_count": 139,
   "id": "dressed-perfume",
   "metadata": {
    "scrolled": true
   },
   "outputs": [
    {
     "data": {
      "text/html": [
       "<div>\n",
       "<style scoped>\n",
       "    .dataframe tbody tr th:only-of-type {\n",
       "        vertical-align: middle;\n",
       "    }\n",
       "\n",
       "    .dataframe tbody tr th {\n",
       "        vertical-align: top;\n",
       "    }\n",
       "\n",
       "    .dataframe thead th {\n",
       "        text-align: right;\n",
       "    }\n",
       "</style>\n",
       "<table border=\"1\" class=\"dataframe\">\n",
       "  <thead>\n",
       "    <tr style=\"text-align: right;\">\n",
       "      <th></th>\n",
       "      <th>token</th>\n",
       "      <th>token_count</th>\n",
       "    </tr>\n",
       "  </thead>\n",
       "  <tbody>\n",
       "    <tr>\n",
       "      <th>22</th>\n",
       "      <td>the</td>\n",
       "      <td>734621</td>\n",
       "    </tr>\n",
       "    <tr>\n",
       "      <th>51</th>\n",
       "      <td>of</td>\n",
       "      <td>372237</td>\n",
       "    </tr>\n",
       "    <tr>\n",
       "      <th>28</th>\n",
       "      <td>in</td>\n",
       "      <td>325117</td>\n",
       "    </tr>\n",
       "    <tr>\n",
       "      <th>40</th>\n",
       "      <td>and</td>\n",
       "      <td>269142</td>\n",
       "    </tr>\n",
       "  </tbody>\n",
       "</table>\n",
       "</div>"
      ],
      "text/plain": [
       "   token  token_count\n",
       "22   the       734621\n",
       "51    of       372237\n",
       "28    in       325117\n",
       "40   and       269142"
      ]
     },
     "execution_count": 139,
     "metadata": {},
     "output_type": "execute_result"
    }
   ],
   "source": [
    "# explore the most occurring words\n",
    "all_tokens = []\n",
    "\n",
    "for idx, row in all_features.iterrows():\n",
    "    tokens = row[\"tokens\"]\n",
    "    all_tokens.extend(tokens)\n",
    "\n",
    "tokens_count_dict = Counter(all_tokens) \n",
    "\n",
    "token_count_df = pd.DataFrame.from_dict(tokens_count_dict, orient=\"index\") \\\n",
    ".reset_index().rename({0: \"token_count\", \"index\": \"token\"}, axis=1) \\\n",
    ".sort_values(by=\"token_count\", axis=0, ascending=False)\n",
    "token_count_df.head(4)"
   ]
  },
  {
   "cell_type": "code",
   "execution_count": 141,
   "id": "removed-planner",
   "metadata": {},
   "outputs": [
    {
     "data": {
      "text/plain": [
       "<AxesSubplot:xlabel='token'>"
      ]
     },
     "execution_count": 141,
     "metadata": {},
     "output_type": "execute_result"
    },
    {
     "data": {
      "image/png": "[encoded data removed]",
      "text/plain": [
       "<Figure size 432x288 with 1 Axes>"
      ]
     },
     "metadata": {
      "needs_background": "light"
     },
     "output_type": "display_data"
    }
   ],
   "source": [
    "# plot the top 20 most occuring words \n",
    "token_count_df[:20].plot.bar(y=\"token_count\", x=\"token\", rot=90)"
   ]
  },
  {
   "cell_type": "code",
   "execution_count": 144,
   "id": "another-attack",
   "metadata": {},
   "outputs": [
    {
     "name": "stdout",
     "output_type": "stream",
     "text": [
      "True\n",
      "True\n",
      "True\n",
      "True\n",
      "True\n",
      "True\n",
      "True\n",
      "True\n",
      "True\n",
      "True\n",
      "True\n",
      "True\n",
      "True\n",
      "True\n",
      "True\n",
      "True\n",
      "True\n",
      "True\n",
      "True\n",
      "True\n"
     ]
    }
   ],
   "source": [
    "# check whether the top 20 most occurring words are found in Dale Chall Word List\n",
    "\n",
    "for token in list(token_count_df[\"token\"][:20]):\n",
    "    if token in dale_chall_word_set: \n",
    "        print(True)\n",
    "    else: \n",
    "        print(False)\n",
    "        "
   ]
  },
  {
   "cell_type": "markdown",
   "id": "acquired-dictionary",
   "metadata": {},
   "source": [
    "All of them are found in the Dale Chall Word List. "
   ]
  },
  {
   "cell_type": "markdown",
   "id": "champion-protection",
   "metadata": {},
   "source": [
    "### Chi-square Test for Feature Selection "
   ]
  },
  {
   "cell_type": "markdown",
   "id": "broken-christian",
   "metadata": {},
   "source": [
    "Conduct Chi-square Test on numerical features to see whether any of them are independent of the response variable."
   ]
  },
  {
   "cell_type": "code",
   "execution_count": 166,
   "id": "exempt-equipment",
   "metadata": {},
   "outputs": [
    {
     "name": "stdout",
     "output_type": "stream",
     "text": [
      "text_len                 0.000000\n",
      "num_tokens               0.000000\n",
      "num_types                0.000000\n",
      "num_difficult_tokens     0.000000\n",
      "prop_difficult_tokens    0.056828\n",
      "dtype: float64\n"
     ]
    },
    {
     "data": {
      "text/plain": [
       "<AxesSubplot:>"
      ]
     },
     "execution_count": 166,
     "metadata": {},
     "output_type": "execute_result"
    },
    {
     "data": {
      "image/png": "[encoded data removed]",
      "text/plain": [
       "<Figure size 432x288 with 1 Axes>"
      ]
     },
     "metadata": {
      "needs_background": "light"
     },
     "output_type": "display_data"
    }
   ],
   "source": [
    "# https://towardsdatascience.com/chi-square-test-for-feature-selection-in-machine-learning-206b1f0b8223\n",
    "# https://scikit-learn.org/stable/modules/generated/sklearn.feature_selection.chi2.html\n",
    "\n",
    "from sklearn.preprocessing import MinMaxScaler\n",
    "\n",
    "training = all_features[all_features[\"label\"].isnull()==False]\n",
    "training_features = training[[\"text_len\", \"num_tokens\", \"num_types\", \n",
    "                              \"num_difficult_tokens\", \"prop_difficult_tokens\"]]\n",
    "\n",
    "training_labels = training[\"label\"]\n",
    "training_labels = training_labels.astype(int)\n",
    "\n",
    "scaler = MinMaxScaler()\n",
    "scaled_features = scaler.fit_transform(training_features)\n",
    "\n",
    "chi_scores = chi2(scaled_features, training_labels)\n",
    "\n",
    "p_values = pd.Series(chi_scores[1],index = training_features.columns)\n",
    "print(p_values)\n",
    "p_values.sort_values(ascending = False, inplace = True)\n",
    "p_values.plot.bar()\n"
   ]
  },
  {
   "cell_type": "markdown",
   "id": "lined-phone",
   "metadata": {},
   "source": [
    "It is interesting that the proportion of difficult tokens is the only features that is not highly dependent on the response variable. We will not consider this as one of the features. "
   ]
  },
  {
   "cell_type": "markdown",
   "id": "textile-decline",
   "metadata": {},
   "source": [
    "### Stop: Read Note"
   ]
  },
  {
   "cell_type": "markdown",
   "id": "coral-hawaiian",
   "metadata": {},
   "source": [
    "Please run models_run.py to train and tune the models. After that, please run the eval_model.py in order to use the best model to make predictions on the validation and final test data. The python files will output .npy and .csv files for evaluating the models. Some of the .npy files are needed to continue on the Jupyter Notebook. After running the two python files, please continue the Jupyter notebook. "
   ]
  },
  {
   "cell_type": "markdown",
   "id": "humanitarian-fashion",
   "metadata": {},
   "source": [
    "From here on, the predictions.npy, the feature_importances.npy and final_predictions.npy are needed."
   ]
  },
  {
   "cell_type": "markdown",
   "id": "british-insertion",
   "metadata": {},
   "source": [
    "### Sensitivity Analysis: Training data size vs Accuracy "
   ]
  },
  {
   "cell_type": "code",
   "execution_count": 296,
   "id": "chronic-hydrogen",
   "metadata": {},
   "outputs": [
    {
     "name": "stdout",
     "output_type": "stream",
     "text": [
      "Transforming Features...\n",
      "Shapes of Training and Test Data:\n",
      "(333414, 1004) (83354, 1004)\n"
     ]
    }
   ],
   "source": [
    "# Token Representation\n",
    "training = all_features[all_features[\"label\"].isnull() == False]\n",
    "features_list = [\"cleaned_text\", \"text_len\", \"num_tokens\", \"num_types\", \"num_difficult_tokens\"]\n",
    "\n",
    "training_features = training[features_list]\n",
    "\n",
    "training_labels = training[\"label\"]\n",
    "training_labels = training_labels.astype(int)\n",
    "\n",
    "X_tr, X_te, y_train, y_test = train_test_split(training_features,\n",
    "                                               training_labels,\n",
    "                                               test_size=0.2,\n",
    "                                               random_state=0)\n",
    "\n",
    "max_feat = 1000\n",
    "\n",
    "mapper = DataFrameMapper([(\"cleaned_text\", CountVectorizer(binary=True, min_df=5, max_df=0.8, max_features=max_feat)),\n",
    "                          (features_list[1:], None)])\n",
    "\n",
    "print(\"Transforming Features...\")\n",
    "X_train = mapper.fit_transform(X_tr)\n",
    "X_test = mapper.transform(X_te)\n",
    "\n",
    "print(\"Shapes of Training and Test Data:\")\n",
    "print(X_train.shape, X_test.shape)\n"
   ]
  },
  {
   "cell_type": "code",
   "execution_count": 316,
   "id": "champion-penalty",
   "metadata": {},
   "outputs": [
    {
     "name": "stdout",
     "output_type": "stream",
     "text": [
      "fitting with limit of 10\n",
      "scoring...\n",
      "Done!\n",
      "fitting with limit of 100\n",
      "scoring...\n",
      "Done!\n",
      "fitting with limit of 1000\n",
      "scoring...\n",
      "Done!\n",
      "fitting with limit of 5000\n",
      "scoring...\n",
      "Done!\n"
     ]
    }
   ],
   "source": [
    "training_data_sizes = [10, 100, 1000, 5000]\n",
    "trainscores_sens = []\n",
    "testscores_sens = []\n",
    "\n",
    "for limit in training_data_sizes:\n",
    "    best_model_rf = RandomForestClassifier(random_state=0, \n",
    "                                           n_estimators=500, \n",
    "                                           max_features=30)\n",
    "    print(\"fitting with limit of {}\".format(limit))\n",
    "    best_model_rf.fit(X_train[:limit], y_train[:limit])\n",
    "    print(\"scoring...\")\n",
    "    rf_train_score = best_model_rf.score(X_train, y_train)\n",
    "    rf_test_score = best_model_rf.score(X_test, y_test)\n",
    "    trainscores_sens.append(rf_train_score)\n",
    "    testscores_sens.append(rf_test_score)\n",
    "    print(\"Done!\")\n",
    "    \n"
   ]
  },
  {
   "cell_type": "code",
   "execution_count": 321,
   "id": "fiscal-language",
   "metadata": {},
   "outputs": [
    {
     "data": {
      "text/plain": [
       "<AxesSubplot:title={'center':'Changes in Accuracy relative to Training Data Size'}, xlabel='Training Data Size'>"
      ]
     },
     "execution_count": 321,
     "metadata": {},
     "output_type": "execute_result"
    },
    {
     "data": {
      "text/plain": [
       "<Figure size 1440x1440 with 0 Axes>"
      ]
     },
     "metadata": {},
     "output_type": "display_data"
    },
    {
     "data": {
      "image/png": "[encoded data removed]",
      "text/plain": [
       "<Figure size 432x288 with 1 Axes>"
      ]
     },
     "metadata": {
      "needs_background": "light"
     },
     "output_type": "display_data"
    }
   ],
   "source": [
    "sens_df = pd.DataFrame.from_dict({\"Training Data Size\": training_data_sizes, \n",
    "                                  \"Train Scores\": trainscores_sens, \n",
    "                                  \"Test Scores\": testscores_sens})\n",
    "sens_df.plot(x=\"Training Data Size\", \n",
    "             y=[\"Train Scores\", \"Test Scores\"], \n",
    "             kind=\"line\", title=\"Changes in Accuracy relative to Training Data Size\", \n",
    "             legend=True)\n"
   ]
  },
  {
   "cell_type": "markdown",
   "id": "exceptional-tissue",
   "metadata": {},
   "source": [
    "### \"Best\" Model Evaluation"
   ]
  },
  {
   "cell_type": "code",
   "execution_count": null,
   "id": "colonial-insulin",
   "metadata": {},
   "outputs": [],
   "source": [
    "# load predictions and feature_importances from the best model \n",
    "with open('predictions.npy', 'rb') as f:\n",
    "    predictions = np.load(f)\n",
    "    \n",
    "with open('feature_importances.npy', 'rb') as g:\n",
    "    features_importances = np.load(g)\n",
    "    "
   ]
  },
  {
   "cell_type": "code",
   "execution_count": 277,
   "id": "sapphire-protocol",
   "metadata": {},
   "outputs": [
    {
     "data": {
      "image/png": "[encoded data removed]",
      "text/plain": [
       "<Figure size 432x288 with 2 Axes>"
      ]
     },
     "metadata": {
      "needs_background": "light"
     },
     "output_type": "display_data"
    }
   ],
   "source": [
    "# https://scikit-learn.org/stable/modules/generated/sklearn.metrics.ConfusionMatrixDisplay.html#sklearn.metrics.ConfusionMatrixDisplay\n",
    "from sklearn.metrics import confusion_matrix, ConfusionMatrixDisplay\n",
    "\n",
    "labels = [0, 1] \n",
    "cm = confusion_matrix(y_test, predictions)\n",
    "\n",
    "disp = ConfusionMatrixDisplay(confusion_matrix=cm,\n",
    "                              display_labels=labels)\n",
    "disp.plot()\n",
    "plt.show()\n"
   ]
  },
  {
   "cell_type": "markdown",
   "id": "particular-kinase",
   "metadata": {},
   "source": [
    "#### ROC Curve"
   ]
  },
  {
   "cell_type": "code",
   "execution_count": 232,
   "id": "verbal-humanity",
   "metadata": {},
   "outputs": [
    {
     "data": {
      "image/png": "[encoded data removed]",
      "text/plain": [
       "<Figure size 432x288 with 1 Axes>"
      ]
     },
     "metadata": {
      "needs_background": "light"
     },
     "output_type": "display_data"
    }
   ],
   "source": [
    "# https://stackoverflow.com/questions/25009284/how-to-plot-roc-curve-in-python\n",
    "\n",
    "fpr, tpr, thresholds = metrics.roc_curve(y_test, predictions, pos_label=1)\n",
    "roc_auc = metrics.auc(fpr, tpr)\n",
    "\n",
    "plt.title('Receiver Operating Characteristic')\n",
    "plt.plot(fpr, tpr, 'b', label = 'AUC = %0.2f' % roc_auc)\n",
    "plt.legend(loc = 'lower right')\n",
    "plt.plot([0, 1], [0, 1],'r--')\n",
    "plt.xlim([0, 1])\n",
    "plt.ylim([0, 1])\n",
    "plt.ylabel('True Positive Rate')\n",
    "plt.xlabel('False Positive Rate')\n",
    "plt.show()\n"
   ]
  },
  {
   "cell_type": "code",
   "execution_count": null,
   "id": "adjacent-library",
   "metadata": {},
   "outputs": [],
   "source": []
  },
  {
   "cell_type": "markdown",
   "id": "qualified-albuquerque",
   "metadata": {},
   "source": [
    "#### Feature Importance Analysis"
   ]
  },
  {
   "cell_type": "code",
   "execution_count": 264,
   "id": "billion-eugene",
   "metadata": {},
   "outputs": [
    {
     "data": {
      "image/png": "[encoded data removed]",
      "text/plain": [
       "<Figure size 1080x1080 with 1 Axes>"
      ]
     },
     "metadata": {
      "needs_background": "light"
     },
     "output_type": "display_data"
    }
   ],
   "source": [
    "# Feature Importance Analysis\n",
    "\n",
    "# if the best model is a Random Forest \n",
    "# https://scikit-learn.org/stable/auto_examples/ensemble/plot_forest_importances.html\n",
    "# function from adspy_shared_utilities.py file\n",
    "\n",
    "features_names = list(range(X_train.shape[1]))\n",
    "\n",
    "def plot_feature_importances(features_imp, feature_names):\n",
    "    c_features = len(feature_names)\n",
    "    plt.barh(range(c_features), features_imp)\n",
    "    plt.xlabel(\"Feature importance\")\n",
    "    plt.ylabel(\"Feature name\")\n",
    "    plt.yticks(np.arange(c_features), feature_names)\n",
    "    plt.xticks(rotation=90)\n",
    "\n",
    "figure(figsize=(15, 15))\n",
    "plot_feature_importances(features_importances[-20:], features_names[-20:])\n"
   ]
  },
  {
   "cell_type": "code",
   "execution_count": 255,
   "id": "oriented-square",
   "metadata": {},
   "outputs": [
    {
     "data": {
      "image/png": "[encoded data removed]",
      "text/plain": [
       "<Figure size 720x288 with 1 Axes>"
      ]
     },
     "metadata": {
      "needs_background": "light"
     },
     "output_type": "display_data"
    }
   ],
   "source": [
    "# only the numerical features \n",
    "features_names = list(range(X_train.shape[1]))\n",
    "\n",
    "def plot_feature_importances(features_imp, feature_names):\n",
    "    c_features = len(feature_names)\n",
    "    plt.barh(range(c_features), features_imp)\n",
    "    plt.xlabel(\"Feature importance\")\n",
    "    plt.ylabel(\"Feature name\")\n",
    "    plt.yticks(np.arange(c_features), feature_names)\n",
    "    plt.xticks(rotation=90)\n",
    "    \n",
    "numerical_features = [\"text_len\", \"num_tokens\", \"num_types\", \"num_difficult_tokens\"]\n",
    "\n",
    "figure(figsize=(10, 4))\n",
    "plot_feature_importances(features_importances[-4:], numerical_features)\n"
   ]
  },
  {
   "cell_type": "code",
   "execution_count": 288,
   "id": "varied-rider",
   "metadata": {},
   "outputs": [],
   "source": [
    "# csv file for failure analysis\n",
    "failure_analysis = X_te[[\"cleaned_text\"]].copy()\n",
    "failure_analysis[\"predictions\"] = predictions\n",
    "failure_analysis[\"true label\"] = y_test\n",
    "failure_analysis.to_csv(\"failure_analysis.csv\", index=True)"
   ]
  },
  {
   "cell_type": "markdown",
   "id": "unauthorized-upper",
   "metadata": {},
   "source": [
    "### Kaggle Submission"
   ]
  },
  {
   "cell_type": "code",
   "execution_count": 315,
   "id": "proud-narrative",
   "metadata": {},
   "outputs": [],
   "source": [
    "final_testing = all_features[all_features[\"label\"].isnull() == True]\n",
    "final_testing_features = final_testing[features_list]\n",
    "\n",
    "\n",
    "with open('final_predictions.npy', 'rb') as t:\n",
    "    final_predictions = np.load(t)\n",
    "\n",
    "final_testing[\"predicted_label\"] = final_predictions\n",
    "csv_final_testing = final_testing[[\"predicted_label\"]]\n",
    "csv_final_testing = csv_final_testing.rename({\"predicted_label\": \"label\"}, axis=1)\n",
    "csv_final_testing.to_csv(\"prediction_submission.csv\", index=True)\n"
   ]
  },
  {
   "cell_type": "code",
   "execution_count": null,
   "id": "european-conducting",
   "metadata": {},
   "outputs": [],
   "source": []
  }
 ],
 "metadata": {
  "kernelspec": {
   "display_name": "Python 3",
   "language": "python",
   "name": "python3"
  },
  "language_info": {
   "codemirror_mode": {
    "name": "ipython",
    "version": 3
   },
   "file_extension": ".py",
   "mimetype": "text/x-python",
   "name": "python",
   "nbconvert_exporter": "python",
   "pygments_lexer": "ipython3",
   "version": "3.8.8"
  }
 },
 "nbformat": 4,
 "nbformat_minor": 5
}
